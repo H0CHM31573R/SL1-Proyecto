{
 "cells": [
  {
   "cell_type": "markdown",
   "metadata": {
    "id": "cRuqku869D5h"
   },
   "source": [
    "# Bootstrap Sampling"
   ]
  },
  {
   "cell_type": "code",
   "execution_count": null,
   "metadata": {
    "id": "Y-Tfdezg9D5j"
   },
   "outputs": [],
   "source": [
    "from sklearn.metrics import accuracy_score\n",
    "from sklearn.linear_model import LogisticRegression \n",
    "from sklearn.neighbors import KNeighborsClassifier\n",
    "from sklearn.tree import DecisionTreeClassifier\n",
    "from sklearn import datasets\n",
    "from sklearn.utils import resample\n",
    "import numpy as np\n",
    "from scipy import stats\n",
    "import collections"
   ]
  },
  {
   "cell_type": "code",
   "execution_count": null,
   "metadata": {
    "id": "hAbz496V9D5o"
   },
   "outputs": [],
   "source": [
    "iris_data = datasets.load_iris()\n",
    "X_train = iris_data.data\n",
    "Y_train = iris_data.target"
   ]
  },
  {
   "cell_type": "code",
   "execution_count": null,
   "metadata": {
    "colab": {
     "base_uri": "https://localhost:8080/",
     "height": 34
    },
    "executionInfo": {
     "elapsed": 1953,
     "status": "ok",
     "timestamp": 1591744153621,
     "user": {
      "displayName": "Luis Fernando Leal Hernandez",
      "photoUrl": "",
      "userId": "08643725771405988586"
     },
     "user_tz": 360
    },
    "id": "jx4ymGjR9D5s",
    "outputId": "a146c08a-be07-4de6-d737-c77640c56c55"
   },
   "outputs": [
    {
     "data": {
      "text/plain": [
       "150"
      ]
     },
     "execution_count": 3,
     "metadata": {
      "tags": []
     },
     "output_type": "execute_result"
    }
   ],
   "source": [
    "len(Y_train)"
   ]
  },
  {
   "cell_type": "markdown",
   "metadata": {
    "id": "4HbzW-Yu9D50"
   },
   "source": [
    "## Sampleo bootstrap\n",
    "\n",
    "Usamos muestras de tamaño 100"
   ]
  },
  {
   "cell_type": "code",
   "execution_count": null,
   "metadata": {
    "id": "AzOUMwmO9D51"
   },
   "outputs": [],
   "source": [
    "X_train_m1, Y_train_m1 = resample(X_train, Y_train, n_samples = 100)\n",
    "X_train_m2, Y_train_m2 = resample(X_train, Y_train, n_samples = 100)\n",
    "X_train_m3, Y_train_m3 = resample(X_train, Y_train, n_samples = 100)"
   ]
  },
  {
   "cell_type": "markdown",
   "metadata": {
    "id": "uiJ78mDY9D56"
   },
   "source": [
    "#### Modelo 1: k-nearest neighbors"
   ]
  },
  {
   "cell_type": "code",
   "execution_count": null,
   "metadata": {
    "colab": {
     "base_uri": "https://localhost:8080/",
     "height": 68
    },
    "executionInfo": {
     "elapsed": 1946,
     "status": "ok",
     "timestamp": 1591744153622,
     "user": {
      "displayName": "Luis Fernando Leal Hernandez",
      "photoUrl": "",
      "userId": "08643725771405988586"
     },
     "user_tz": 360
    },
    "id": "-F9CQNLp9D57",
    "outputId": "d5a4c48d-0254-49d7-c2a0-e0f707a11166"
   },
   "outputs": [
    {
     "data": {
      "text/plain": [
       "KNeighborsClassifier(algorithm='auto', leaf_size=30, metric='minkowski',\n",
       "                     metric_params=None, n_jobs=None, n_neighbors=5, p=2,\n",
       "                     weights='uniform')"
      ]
     },
     "execution_count": 5,
     "metadata": {
      "tags": []
     },
     "output_type": "execute_result"
    }
   ],
   "source": [
    "## k-nearest neighbors\n",
    "modelo1 = KNeighborsClassifier()\n",
    "modelo1.fit(X_train_m1, Y_train_m1) "
   ]
  },
  {
   "cell_type": "markdown",
   "metadata": {
    "id": "oFFfnhpZ9D6A"
   },
   "source": [
    "#### Modelo 2: Regresion logistica"
   ]
  },
  {
   "cell_type": "code",
   "execution_count": null,
   "metadata": {
    "colab": {
     "base_uri": "https://localhost:8080/",
     "height": 102
    },
    "executionInfo": {
     "elapsed": 1942,
     "status": "ok",
     "timestamp": 1591744153625,
     "user": {
      "displayName": "Luis Fernando Leal Hernandez",
      "photoUrl": "",
      "userId": "08643725771405988586"
     },
     "user_tz": 360
    },
    "id": "mZzNLnnM9D6B",
    "outputId": "46ded0ad-b8ce-4c76-d8c3-12af199770b5"
   },
   "outputs": [
    {
     "data": {
      "text/plain": [
       "LogisticRegression(C=1.0, class_weight=None, dual=False, fit_intercept=True,\n",
       "                   intercept_scaling=1, l1_ratio=None, max_iter=500,\n",
       "                   multi_class='auto', n_jobs=None, penalty='l2',\n",
       "                   random_state=None, solver='lbfgs', tol=0.0001, verbose=0,\n",
       "                   warm_start=False)"
      ]
     },
     "execution_count": 6,
     "metadata": {
      "tags": []
     },
     "output_type": "execute_result"
    }
   ],
   "source": [
    "# Regresion logistica\n",
    "modelo2 = LogisticRegression(max_iter = 500)\n",
    "modelo2.fit(X_train_m2,Y_train_m2)"
   ]
  },
  {
   "cell_type": "markdown",
   "metadata": {
    "id": "A3Db-Hy39D6J"
   },
   "source": [
    "#### Modelo 3: Desicion trees"
   ]
  },
  {
   "cell_type": "code",
   "execution_count": null,
   "metadata": {
    "colab": {
     "base_uri": "https://localhost:8080/",
     "height": 119
    },
    "executionInfo": {
     "elapsed": 1938,
     "status": "ok",
     "timestamp": 1591744153626,
     "user": {
      "displayName": "Luis Fernando Leal Hernandez",
      "photoUrl": "",
      "userId": "08643725771405988586"
     },
     "user_tz": 360
    },
    "id": "UlC90CQx9D6L",
    "outputId": "a74202df-77e5-4eb0-e42e-290c4807441e"
   },
   "outputs": [
    {
     "data": {
      "text/plain": [
       "DecisionTreeClassifier(ccp_alpha=0.0, class_weight=None, criterion='gini',\n",
       "                       max_depth=None, max_features=None, max_leaf_nodes=None,\n",
       "                       min_impurity_decrease=0.0, min_impurity_split=None,\n",
       "                       min_samples_leaf=1, min_samples_split=2,\n",
       "                       min_weight_fraction_leaf=0.0, presort='deprecated',\n",
       "                       random_state=None, splitter='best')"
      ]
     },
     "execution_count": 7,
     "metadata": {
      "tags": []
     },
     "output_type": "execute_result"
    }
   ],
   "source": [
    "# Desicion trees\n",
    "modelo3 = DecisionTreeClassifier()\n",
    "modelo3.fit(X_train_m3, Y_train_m3)"
   ]
  },
  {
   "cell_type": "markdown",
   "metadata": {
    "id": "J3ZPbNJa9D6R"
   },
   "source": [
    "### Accuracy de los Modelos"
   ]
  },
  {
   "cell_type": "code",
   "execution_count": null,
   "metadata": {
    "colab": {
     "base_uri": "https://localhost:8080/",
     "height": 68
    },
    "executionInfo": {
     "elapsed": 1933,
     "status": "ok",
     "timestamp": 1591744153627,
     "user": {
      "displayName": "Luis Fernando Leal Hernandez",
      "photoUrl": "",
      "userId": "08643725771405988586"
     },
     "user_tz": 360
    },
    "id": "xPIcukF29D6R",
    "outputId": "51c0a786-b5e8-4d6e-e78a-02f883b61dbd"
   },
   "outputs": [
    {
     "name": "stdout",
     "output_type": "stream",
     "text": [
      "Accuracy modelo 1 : 97.33333333333334 %\n",
      "Accuracy modelo 2 : 98.0 %\n",
      "Accuracy modelo 3 : 97.33333333333334 %\n"
     ]
    }
   ],
   "source": [
    "print('Accuracy modelo 1 :', accuracy_score(Y_train, modelo1.predict(X_train))*100, '%')\n",
    "print('Accuracy modelo 2 :', accuracy_score(Y_train, modelo2.predict(X_train))*100, '%')\n",
    "print('Accuracy modelo 3 :', accuracy_score(Y_train, modelo3.predict(X_train))*100, '%')"
   ]
  },
  {
   "cell_type": "markdown",
   "metadata": {
    "id": "GKx9l4_S9D6V"
   },
   "source": [
    "## Predicciones"
   ]
  },
  {
   "cell_type": "code",
   "execution_count": null,
   "metadata": {
    "id": "3RlZeJhX9D6V"
   },
   "outputs": [],
   "source": [
    "estimadores=[modelo1, modelo2, modelo3]"
   ]
  },
  {
   "cell_type": "markdown",
   "metadata": {
    "id": "FX87cjDz9D6Y"
   },
   "source": [
    "### Prediccion por mayoria"
   ]
  },
  {
   "cell_type": "code",
   "execution_count": null,
   "metadata": {
    "id": "ohBwVKUj9D6a"
   },
   "outputs": [],
   "source": [
    "def predict_voting(estimadores, features):\n",
    "    predicciones = []\n",
    "    for estimador in estimadores:\n",
    "        predicciones.append(estimador.predict(features)[0])\n",
    "        \n",
    "    prediccion = stats.mode(predicciones)[0]\n",
    "    print('Predicciones: ', predicciones)\n",
    "    print('Prediccion:', prediccion)"
   ]
  },
  {
   "cell_type": "markdown",
   "metadata": {
    "id": "oma-RgHE9D6h"
   },
   "source": [
    "### Prediccion por estadistica"
   ]
  },
  {
   "cell_type": "code",
   "execution_count": null,
   "metadata": {
    "colab": {
     "base_uri": "https://localhost:8080/",
     "height": 34
    },
    "executionInfo": {
     "elapsed": 2343,
     "status": "ok",
     "timestamp": 1591744154047,
     "user": {
      "displayName": "Luis Fernando Leal Hernandez",
      "photoUrl": "",
      "userId": "08643725771405988586"
     },
     "user_tz": 360
    },
    "id": "8CqcJV1g9D6i",
    "outputId": "dfb2a535-bf26-455e-9c71-8526923e8a20"
   },
   "outputs": [
    {
     "data": {
      "text/plain": [
       "{0, 1, 2}"
      ]
     },
     "execution_count": 11,
     "metadata": {
      "tags": []
     },
     "output_type": "execute_result"
    }
   ],
   "source": [
    "y_clases = set(Y_train)\n",
    "y_clases"
   ]
  },
  {
   "cell_type": "code",
   "execution_count": null,
   "metadata": {
    "id": "FQIkXxxZ9D6n"
   },
   "outputs": [],
   "source": [
    "def predict_prob(estimadores, features):\n",
    "    predicciones = []\n",
    "    numero_estimadores = len(estimadores)\n",
    "    for estimador in estimadores:\n",
    "        predicciones.append(estimador.predict(features)[0])\n",
    "        \n",
    "    conteo_clases = collections.Counter(predicciones)\n",
    "    \n",
    "    print('Predicciones: ', predicciones)\n",
    "    for clase in y_clases:\n",
    "        print('Clase [',clase,'] :', (conteo_clases[clase]/numero_estimadores)*100, '%' )"
   ]
  },
  {
   "cell_type": "markdown",
   "metadata": {
    "id": "1jAdcFyf9D6w"
   },
   "source": [
    "## Ejemplos"
   ]
  },
  {
   "cell_type": "code",
   "execution_count": null,
   "metadata": {
    "colab": {
     "base_uri": "https://localhost:8080/",
     "height": 170
    },
    "executionInfo": {
     "elapsed": 2337,
     "status": "ok",
     "timestamp": 1591744154048,
     "user": {
      "displayName": "Luis Fernando Leal Hernandez",
      "photoUrl": "",
      "userId": "08643725771405988586"
     },
     "user_tz": 360
    },
    "id": "eLt3WR5W9D6x",
    "outputId": "6bab7fcb-a25d-4f35-b3ee-5bde73697a51"
   },
   "outputs": [
    {
     "name": "stdout",
     "output_type": "stream",
     "text": [
      "Mayoria\n",
      "Predicciones:  [1, 2, 1]\n",
      "Prediccion: [1]\n",
      "\n",
      "Estadistica\n",
      "Predicciones:  [1, 2, 1]\n",
      "Clase [ 0 ] : 0.0 %\n",
      "Clase [ 1 ] : 66.66666666666666 %\n",
      "Clase [ 2 ] : 33.33333333333333 %\n"
     ]
    }
   ],
   "source": [
    "print(\"Mayoria\")\n",
    "predict_voting(estimadores, X_train[106].reshape(1, -1))\n",
    "print(\"\")\n",
    "print(\"Estadistica\")\n",
    "predict_prob(estimadores, X_train[106].reshape(1, -1))"
   ]
  },
  {
   "cell_type": "code",
   "execution_count": null,
   "metadata": {
    "colab": {
     "base_uri": "https://localhost:8080/",
     "height": 170
    },
    "executionInfo": {
     "elapsed": 2333,
     "status": "ok",
     "timestamp": 1591744154049,
     "user": {
      "displayName": "Luis Fernando Leal Hernandez",
      "photoUrl": "",
      "userId": "08643725771405988586"
     },
     "user_tz": 360
    },
    "id": "4k4xqWa_9D60",
    "outputId": "eb74defd-c8d0-4f7c-c73e-75993340bd86"
   },
   "outputs": [
    {
     "name": "stdout",
     "output_type": "stream",
     "text": [
      "Mayoria\n",
      "Predicciones:  [1, 1, 1]\n",
      "Prediccion: [1]\n",
      "\n",
      "Estadistica\n",
      "Predicciones:  [1, 1, 1]\n",
      "Clase [ 0 ] : 0.0 %\n",
      "Clase [ 1 ] : 100.0 %\n",
      "Clase [ 2 ] : 0.0 %\n"
     ]
    }
   ],
   "source": [
    "print(\"Mayoria\")\n",
    "predict_voting(estimadores, X_train[72].reshape(1, -1))\n",
    "print(\"\")\n",
    "print(\"Estadistica\")\n",
    "predict_prob(estimadores, X_train[72].reshape(1, -1))"
   ]
  },
  {
   "cell_type": "code",
   "execution_count": null,
   "metadata": {
    "id": "fcPcfXp_9D64"
   },
   "outputs": [],
   "source": []
  }
 ],
 "metadata": {
  "colab": {
   "name": "bootstrap_sampling.ipynb",
   "provenance": []
  },
  "kernelspec": {
   "display_name": "Python 3 (ipykernel)",
   "language": "python",
   "name": "python3"
  },
  "language_info": {
   "codemirror_mode": {
    "name": "ipython",
    "version": 3
   },
   "file_extension": ".py",
   "mimetype": "text/x-python",
   "name": "python",
   "nbconvert_exporter": "python",
   "pygments_lexer": "ipython3",
   "version": "3.8.13"
  }
 },
 "nbformat": 4,
 "nbformat_minor": 1
}
